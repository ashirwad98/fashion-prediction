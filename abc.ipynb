{
 "cells": [
  {
   "cell_type": "code",
   "execution_count": 1,
   "id": "c68dbe40",
   "metadata": {},
   "outputs": [],
   "source": [
    "import numpy as np\n",
    "import matplotlib.pyplot as plt\n",
    "import tensorflow as tf\n",
    "from tensorflow.keras.datasets import fashion_mnist\n",
    "from tensorflow.keras.models import Sequential\n",
    "from tensorflow.keras.layers import Conv2D, MaxPooling2D, Flatten, Dense\n",
    "from tensorflow.keras.utils import to_categorical\n",
    "from tensorflow.keras.preprocessing.image import load_img, img_to_array\n",
    "import cv2\n",
    "import os"
   ]
  },
  {
   "cell_type": "code",
   "execution_count": 2,
   "id": "26f5c39d",
   "metadata": {},
   "outputs": [],
   "source": [
    "# Load dataset\n",
    "(x_train, y_train), (x_test, y_test) = fashion_mnist.load_data()\n",
    "\n",
    "# Normalize and reshape\n",
    "x_train = x_train / 255.0\n",
    "x_test = x_test / 255.0\n",
    "x_train = x_train.reshape(-1, 28, 28, 1)\n",
    "x_test = x_test.reshape(-1, 28, 28, 1)\n",
    "\n",
    "# One-hot encode labels\n",
    "y_train_cat = to_categorical(y_train, 10)\n",
    "y_test_cat = to_categorical(y_test, 10)\n",
    "\n",
    "# Class labels and matching suggestions\n",
    "class_names = [\"T-shirt\", \"Trouser\", \"Pullover\", \"Dress\", \"Coat\",\n",
    "               \"Sandal\", \"Shirt\", \"Sneaker\", \"Bag\", \"Ankle boot\"]"
   ]
  },
  {
   "cell_type": "code",
   "execution_count": 3,
   "id": "e5502632",
   "metadata": {},
   "outputs": [],
   "source": [
    "match_dict = {\n",
    "    \"T-shirt\": \"Jeans, Sneakers, Denim Jacket\",\n",
    "    \"Trouser\": \"Shirt, T-shirt, Loafers\",\n",
    "    \"Pullover\": \"Trousers, Skirt, Scarft\",\n",
    "    \"Dress\": \"\tHeels, Handbag, Cardigan\",\n",
    "    \"Coat\": \"Boots, Scarf, Skinny Jeans\",\n",
    "    \"Sandal\": \"Skirt, Summer Dress, Beach Hat\",\n",
    "    \"Shirt\": \"Trousers, Blazer, Formal Shoes\",\n",
    "    \"Sneaker\": \"Joggers, Hoodie, Cap\",\n",
    "    \"Bag\": \"Dress, Casual Wear, Sunglasses\",\n",
    "    \"Ankle boot\": \"Jeans, Leather Jacket, Turtleneck Sweater\"\n",
    "}\n"
   ]
  },
  {
   "cell_type": "code",
   "execution_count": 4,
   "id": "149228ff",
   "metadata": {},
   "outputs": [
    {
     "name": "stdout",
     "output_type": "stream",
     "text": [
      "Epoch 1/5\n"
     ]
    },
    {
     "name": "stderr",
     "output_type": "stream",
     "text": [
      "c:\\Users\\ASHIRWAD\\AppData\\Local\\Programs\\Python\\Python310\\lib\\site-packages\\keras\\src\\layers\\convolutional\\base_conv.py:107: UserWarning: Do not pass an `input_shape`/`input_dim` argument to a layer. When using Sequential models, prefer using an `Input(shape)` object as the first layer in the model instead.\n",
      "  super().__init__(activity_regularizer=activity_regularizer, **kwargs)\n"
     ]
    },
    {
     "name": "stdout",
     "output_type": "stream",
     "text": [
      "\u001b[1m1875/1875\u001b[0m \u001b[32m━━━━━━━━━━━━━━━━━━━━\u001b[0m\u001b[37m\u001b[0m \u001b[1m8s\u001b[0m 4ms/step - accuracy: 0.7810 - loss: 0.6099 - val_accuracy: 0.8748 - val_loss: 0.3500\n",
      "Epoch 2/5\n",
      "\u001b[1m1875/1875\u001b[0m \u001b[32m━━━━━━━━━━━━━━━━━━━━\u001b[0m\u001b[37m\u001b[0m \u001b[1m7s\u001b[0m 4ms/step - accuracy: 0.8867 - loss: 0.3103 - val_accuracy: 0.8930 - val_loss: 0.2947\n",
      "Epoch 3/5\n",
      "\u001b[1m1875/1875\u001b[0m \u001b[32m━━━━━━━━━━━━━━━━━━━━\u001b[0m\u001b[37m\u001b[0m \u001b[1m7s\u001b[0m 3ms/step - accuracy: 0.9029 - loss: 0.2621 - val_accuracy: 0.8937 - val_loss: 0.2833\n",
      "Epoch 4/5\n",
      "\u001b[1m1875/1875\u001b[0m \u001b[32m━━━━━━━━━━━━━━━━━━━━\u001b[0m\u001b[37m\u001b[0m \u001b[1m7s\u001b[0m 3ms/step - accuracy: 0.9164 - loss: 0.2220 - val_accuracy: 0.9066 - val_loss: 0.2575\n",
      "Epoch 5/5\n",
      "\u001b[1m1875/1875\u001b[0m \u001b[32m━━━━━━━━━━━━━━━━━━━━\u001b[0m\u001b[37m\u001b[0m \u001b[1m7s\u001b[0m 3ms/step - accuracy: 0.9276 - loss: 0.1937 - val_accuracy: 0.9154 - val_loss: 0.2417\n"
     ]
    },
    {
     "data": {
      "text/plain": [
       "<keras.src.callbacks.history.History at 0x1a08f9ddcf0>"
      ]
     },
     "execution_count": 4,
     "metadata": {},
     "output_type": "execute_result"
    }
   ],
   "source": [
    "# Build and train model (or load if already saved)\n",
    "\n",
    "model = Sequential([\n",
    "        Conv2D(32, (3, 3), activation='relu', input_shape=(28, 28, 1)),\n",
    "        MaxPooling2D(2, 2),\n",
    "        Conv2D(64, (3, 3), activation='relu'),\n",
    "        MaxPooling2D(2, 2),\n",
    "        Flatten(),\n",
    "        Dense(128, activation='relu'),\n",
    "        Dense(10, activation='softmax')\n",
    "    ])\n",
    "model.compile(optimizer='adam', loss='categorical_crossentropy', metrics=['accuracy'])\n",
    "model.fit(x_train, y_train_cat, epochs=5, validation_data=(x_test, y_test_cat))\n"
   ]
  },
  {
   "cell_type": "code",
   "execution_count": 5,
   "id": "10122613",
   "metadata": {},
   "outputs": [
    {
     "name": "stderr",
     "output_type": "stream",
     "text": [
      "WARNING:absl:You are saving your model as an HDF5 file via `model.save()` or `keras.saving.save_model(model)`. This file format is considered legacy. We recommend using instead the native Keras format, e.g. `model.save('my_model.keras')` or `keras.saving.save_model(model, 'my_model.keras')`. \n"
     ]
    }
   ],
   "source": [
    "model.save(\"fashion_mnist_model.h5\")"
   ]
  },
  {
   "cell_type": "code",
   "execution_count": 6,
   "id": "2bebaa98",
   "metadata": {},
   "outputs": [],
   "source": [
    "def predict_and_suggest(image, model):\n",
    "    if image.shape != (28, 28, 1):\n",
    "        image = image.reshape(28, 28, 1)\n",
    "    # Do NOT normalize again if already normalized\n",
    "    image = np.expand_dims(image, axis=0)\n",
    "\n",
    "    prediction = model.predict(image)\n",
    "    predicted_class = np.argmax(prediction)\n",
    "    class_label = class_names[predicted_class]\n",
    "    suggestion = match_dict[class_label]\n",
    "\n",
    "    plt.imshow(image[0].reshape(28, 28), cmap='gray')\n",
    "    plt.title(f\"Prediction: {class_label}\\nMatch Suggestion: {suggestion}\")\n",
    "    plt.axis('off')\n",
    "    plt.show()\n",
    "\n",
    "    print(f\"Predicted Class: {class_label}\")\n",
    "    print(f\"Suggested Match: {suggestion}\")\n"
   ]
  },
  {
   "cell_type": "code",
   "execution_count": 7,
   "id": "caf2acda",
   "metadata": {},
   "outputs": [],
   "source": [
    "# Predict from custom image file\n",
    "def predict_custom_image(image_path, model, class_names, match_dict):\n",
    "    img = load_img(image_path, color_mode='grayscale', target_size=(28, 28))\n",
    "    img_array = img_to_array(img)\n",
    "    img_array = img_array.reshape(1, 28, 28, 1)\n",
    "\n",
    "    prediction = model.predict(img_array)\n",
    "    predicted_class = np.argmax(prediction)\n",
    "    class_label = class_names[predicted_class]\n",
    "    suggestion = match_dict[class_label]\n",
    "\n",
    "    plt.imshow(img_array[0].reshape(28, 28), cmap='gray')\n",
    "    plt.title(f\"Prediction: {class_label}\\nMatch Suggestion: {suggestion}\")\n",
    "    plt.axis('off')\n",
    "    plt.show()\n",
    "\n",
    "    print(f\"Predicted Class: {class_label}\")\n",
    "    print(f\"Suggested Match: {suggestion}\")"
   ]
  },
  {
   "cell_type": "code",
   "execution_count": 8,
   "id": "6b4f3c6f",
   "metadata": {},
   "outputs": [
    {
     "name": "stdout",
     "output_type": "stream",
     "text": [
      "\u001b[1m1/1\u001b[0m \u001b[32m━━━━━━━━━━━━━━━━━━━━\u001b[0m\u001b[37m\u001b[0m \u001b[1m0s\u001b[0m 47ms/step\n"
     ]
    },
    {
     "name": "stderr",
     "output_type": "stream",
     "text": [
      "C:\\Users\\ASHIRWAD\\AppData\\Roaming\\Python\\Python310\\site-packages\\IPython\\core\\pylabtools.py:170: UserWarning: Glyph 9 (\t) missing from font(s) DejaVu Sans.\n",
      "  fig.canvas.print_figure(bytes_io, **kw)\n"
     ]
    },
    {
     "data": {
      "image/png": "[encoded data removed]",
      "text/plain": [
       "<Figure size 640x480 with 1 Axes>"
      ]
     },
     "metadata": {},
     "output_type": "display_data"
    },
    {
     "name": "stdout",
     "output_type": "stream",
     "text": [
      "Predicted Class: Dress\n",
      "Suggested Match: \tHeels, Handbag, Cardigan\n"
     ]
    }
   ],
   "source": [
    "sample_image = x_test[67]\n",
    "predict_and_suggest(sample_image, model)"
   ]
  },
  {
   "cell_type": "code",
   "execution_count": 9,
   "id": "ae04036f",
   "metadata": {},
   "outputs": [],
   "source": [
    "import pickle\n",
    "\n",
    "# Assuming 'model' is your trained model\n",
    "with open(\"fashion_pred.pkl\", \"wb\") as file:\n",
    "    pickle.dump(model, file)\n",
    "\n"
   ]
  }
 ],
 "metadata": {
  "kernelspec": {
   "display_name": "Python 3",
   "language": "python",
   "name": "python3"
  },
  "language_info": {
   "codemirror_mode": {
    "name": "ipython",
    "version": 3
   },
   "file_extension": ".py",
   "mimetype": "text/x-python",
   "name": "python",
   "nbconvert_exporter": "python",
   "pygments_lexer": "ipython3",
   "version": "3.10.9"
  }
 },
 "nbformat": 4,
 "nbformat_minor": 5
}
